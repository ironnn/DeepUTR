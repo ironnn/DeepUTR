{
 "cells": [
  {
   "cell_type": "code",
   "execution_count": null,
   "id": "80e48677",
   "metadata": {},
   "outputs": [
    {
     "name": "stdout",
     "output_type": "stream",
     "text": [
      "Inference outputs: tensor([[0.7965],\n",
      "        [0.8032],\n",
      "        [0.8017],\n",
      "        [0.8083],\n",
      "        [0.8097],\n",
      "        [0.8090],\n",
      "        [0.8016],\n",
      "        [0.8105],\n",
      "        [0.8064],\n",
      "        [0.8028],\n",
      "        [0.8035],\n",
      "        [0.8164]], device='cuda:0')\n"
     ]
    },
    {
     "ename": "",
     "evalue": "",
     "output_type": "error",
     "traceback": [
      "\u001b[1;31mThe Kernel crashed while executing code in the current cell or a previous cell. \n",
      "\u001b[1;31mPlease review the code in the cell(s) to identify a possible cause of the failure. \n",
      "\u001b[1;31mClick <a href='https://aka.ms/vscodeJupyterKernelCrash'>here</a> for more info. \n",
      "\u001b[1;31mView Jupyter <a href='command:jupyter.viewOutput'>log</a> for further details."
     ]
    }
   ],
   "source": [
    "import torch\n",
    "from colonmodel import jambaregression\n",
    "from colontokenrizer import colonTokenizer\n",
    "\n",
    "# 1. 加载 tokenizer\n",
    "tokenizer = colonTokenizer(model_max_length=300)\n",
    "\n",
    "# 2. 假设有原始序列列表和对应特征\n",
    "seqs = [\n",
    "    \"ACTTCTCCCTAGAGCAGGGGTGTTTGCCAGCAGCCTGCACTCTCAGAAATCAGACTTGAGTGGCCGGAACCCTTGAGACCAGAGGCTTACCATGCTGCTCCCTAGGAGGGCCAGGAACTGCTGACGTGACCACTGGACAGTTATTCGTGTCTCTTACAATTACCAAACAGA\",    # WT\n",
    "    \"ACTTCTCCCTAGAGCAGGGGTGTTTGCCAGCAGCCTGCACTCTCAGAAATCAGACTTGAGTGGCCGGAACTTTTGAGACCACAAACTTACCGCGCTGTTCTTTGGGAGGGCCAAGCACCGCTGACGTGTCCCTTGGACAGTTACTCGCGTCTCTTACCATTACCAAACAGC\",    #mu1\n",
    "    'ACTTCTCCCTAGAGCAGGGGTGTTTGCCAGCAGCCTGCACTCTCAGAAATCAGACTTGAGTGGCCGGAACCCTTGAGACCAGAGGCTTACCATGCTGCTCCCTAGGAGGGCCAGGAACTGCTGACGTGACCATTGGACAGTTACTCGCGTCTCTTGCAATTACCAAACAGC',    #mut2\n",
    "    'ACTTCTCCCTAGAGCAGGGGTGTTTGCCAGCAGCCTGCACTCTCAGAAATCAGACTTGAGTGGCCGGAACCCTTGAGACCAGAGGCTTACCATGCTGCTCCCTAGGAGGGCCAGGAACTGCTGACGTGACCACTGGACAGTTACTCGCGTCTCTTACAATTACCAGGCAGC',    #mut3\n",
    "    'ACTTCTCCCTAGAGCAGGGGTGTTTGCCAGCAGCCTGCACTCTCAGAAATCAGACTTGAGTGGCCGGAACCCTTGAGACCAGAGGCTTACCATGCTGCTCCCTAGGAGGGCCAGGAACTGCTGACGTGACCATTGGGCAGTTATTCGTGTCTCTTACCACTACCAGACAGA',    #mut4\n",
    "    'ACTTCTCCCTAGAGCAGGGGTGTTTGCCAGCAGCCTGCACTCTCAGAAATCAGACTTGAGTGGCCGGAACCCTTGAGACCAGAGGCTTACCATGCTGCTCCCTAGGAGGGCCAAGCACCGCTGACGTGTCCCTTGGACAGTTACTCGCGTCTCTTACCATTACCAAACAGC',    #>BLNK-5’UTR-SNP10-3\n",
    "    'ACTTCTCCCTAGAGCAGGGGTGTTTGCCAGCAGCCTGCACTCTCAGAAATCAGACTTGAGTGGCCGGAACCCTTGAGACCAGAGGCTTACCATGCTGCTCCCTAGGAGGGCCAGGAACCTCTGACGTGTTCCTTGGACAGTTACTCGCGTCTCTTGCAATTACCAAACAGC',  #BLNK-5’UTR-SNP10-4\n",
    "    'ACTTCTCCCTAGAGCAGGGGTGTTTGCCAGCAGCCTGCACTCTCAGAAATCAGACTTGAGTGGCCGGAACCCTTGAGACCAGAGGCTTACCATGCTGCTCCCTAGGAGGGCCAGGAACCGCTGACGTGTCCCTTGGACAGTTACTCGCGTCTCTTACCATTACCAAACAGC',   #BLNK-5’UTR-SNP8-5\n",
    "    'ACTTCTCCCTAGAGCAGGGGTGTTTGCCAGCAGCCTGCACTCTCAGAAATCAGACTTGAGTGGCCGGAACCCTTGAGACCAGAGGCTTACCATGCTGCTCCCTAGGAGGGCCAGGAACTGCTGACGTGATCCTTGGACAGTTACTCGCGTCTCTTACAATTACCAGGCAGC',   #BLNK-5’UTR-SNP8-6\n",
    "    'ACTTCTCCCTAGAGCAGGGGTGTTTGCCAGCAGCCTGCACTCTCAGAAATCAGACTTGAGTGGCCGGAACCCTTGAGACCAGAGGCTTACCATGCTGCTCCCTAGGAGGGCCAGGAACTGCTGACGTGTTCCTTGGACAGTTACTCGCGTCTCTTGCAATTACCAAACAGC',  #BLNK-5’UTR-SNP8-7\n",
    "    'ACTTCTCCCTAGAGCAGGGGTGTTTGCCAGCAGCCTGCACTCTCAGAAATCAGACTTGAGTGGCCGGAACCCTTGAGACCAGAGGCTTACCATGCTGCTCCCTAGGAGGGCCAGGAACTGCTGACGTGACCATTGGACAGTTACTCGCGTCTCTTACCATTACCAAACAGC',  #BLNK-5’UTR-SNP8-10\n",
    "    'ACTTCTCCCTAGAGCAGGGGTGTTTGCCAGCAGCCTGCACTCTCAGAAATCAGACTTGAGTGGCCGGAACCCTTGAGACCAGAGGCTTACCATGCTGCTCCCTAGGAGGGCCAGGAACTGCTGACGTGACCACTGGGCAGTTATTCGTGTCTCTTACCACTACCAGGCAGA', #BLNK-5’UTR-SNP8-11\n",
    "]\n",
    "\n",
    "tpm = [1, 1, 1, 1, 1, 1, 1, 1, 1, 1, 1, 1] #example rna expression values\n",
    "\n",
    "\n",
    "cell_type = [10, 10, 10, 10, 10, 10, 10, 10, 10, 10, 10, 10]   # cell 293T \n",
    "\n",
    "# Tokenize and pad/truncate\n",
    "input_ids, attention_masks = [], []\n",
    "for seq in seqs:\n",
    "    toks = tokenizer(seq)\n",
    "    ids = torch.tensor(toks[\"input_ids\"], dtype=torch.long)\n",
    "    mask = torch.tensor(toks[\"attention_mask\"], dtype=torch.bool)\n",
    "    input_ids.append(ids)\n",
    "    attention_masks.append(mask)\n",
    "\n",
    "device = \"cuda:0\"\n",
    "input_ids = torch.stack(input_ids).to(device)           # [B, L]\n",
    "attention_mask = torch.stack(attention_masks).to(device)\n",
    "tpm_tensor = torch.tensor(tpm, dtype=torch.float32, device=device)            # [B]\n",
    "cell_type_tensor = torch.tensor(cell_type, dtype=torch.long, device=device)   # [B]\n",
    "\n",
    "model = jambaregression(\n",
    "    d_model=16,\n",
    "    num_mamba_blocks=3,\n",
    "    d_intermediate=32,\n",
    "    vocab_size=5,\n",
    "    max_seq_len=300,\n",
    ")\n",
    "state_dict = torch.load(\"pure_weights_colon/colon_model.pt\", map_location=\"cuda\")\n",
    "model.load_state_dict(state_dict)\n",
    "model = model.to(device)\n",
    "model.eval()\n",
    "\n",
    "# inference\n",
    "with torch.no_grad():\n",
    "    output = model(input_ids, attention_mask=attention_mask, tpm=tpm_tensor, cell_type=cell_type_tensor)\n",
    "print(\"Inference outputs:\", output)"
   ]
  },
  {
   "cell_type": "code",
   "execution_count": null,
   "id": "6cd7087f",
   "metadata": {},
   "outputs": [],
   "source": []
  },
  {
   "cell_type": "code",
   "execution_count": null,
   "id": "79331d88",
   "metadata": {},
   "outputs": [],
   "source": []
  }
 ],
 "metadata": {
  "kernelspec": {
   "display_name": "mamballm",
   "language": "python",
   "name": "python3"
  },
  "language_info": {
   "codemirror_mode": {
    "name": "ipython",
    "version": 3
   },
   "file_extension": ".py",
   "mimetype": "text/x-python",
   "name": "python",
   "nbconvert_exporter": "python",
   "pygments_lexer": "ipython3",
   "version": "3.11.11"
  }
 },
 "nbformat": 4,
 "nbformat_minor": 5
}
